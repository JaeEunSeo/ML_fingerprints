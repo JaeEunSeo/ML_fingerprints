{
 "cells": [
  {
   "attachments": {},
   "cell_type": "markdown",
   "metadata": {
    "colab": {
     "base_uri": "https://localhost:8080/",
     "height": 36
    },
    "executionInfo": {
     "elapsed": 329,
     "status": "ok",
     "timestamp": 1668323835323,
     "user": {
      "displayName": "SWU AI Class",
      "userId": "05525670031872515833"
     },
     "user_tz": -540
    },
    "id": "8vbdLWgbyssd",
    "outputId": "7d25680b-87ec-4b4d-be85-2fb692b2fa25"
   },
   "source": [
    "import tensorflow as tf\n",
    "tf.__version__"
   ]
  },
  {
   "cell_type": "code",
   "execution_count": 1,
   "metadata": {
    "executionInfo": {
     "elapsed": 5011,
     "status": "ok",
     "timestamp": 1668323919671,
     "user": {
      "displayName": "SWU AI Class",
      "userId": "05525670031872515833"
     },
     "user_tz": -540
    },
    "id": "uwKjIlYke04d"
   },
   "outputs": [
    {
     "name": "stderr",
     "output_type": "stream",
     "text": [
      "2023-05-09 12:36:03.804102: I tensorflow/core/platform/cpu_feature_guard.cc:194] This TensorFlow binary is optimized with oneAPI Deep Neural Network Library (oneDNN) to use the following CPU instructions in performance-critical operations:  SSE3 SSE4.1 SSE4.2 AVX\n",
      "To enable them in other operations, rebuild TensorFlow with the appropriate compiler flags.\n",
      "2023-05-09 12:36:04.010365: I tensorflow/core/util/util.cc:169] oneDNN custom operations are on. You may see slightly different numerical results due to floating-point round-off errors from different computation orders. To turn them off, set the environment variable `TF_ENABLE_ONEDNN_OPTS=0`.\n",
      "2023-05-09 12:36:05.799915: I tensorflow/core/platform/cpu_feature_guard.cc:194] This TensorFlow binary is optimized with oneAPI Deep Neural Network Library (oneDNN) to use the following CPU instructions in performance-critical operations:  SSE3 SSE4.1 SSE4.2 AVX\n",
      "To enable them in other operations, rebuild TensorFlow with the appropriate compiler flags.\n",
      "2023-05-09 12:36:06.728404: I tensorflow/core/common_runtime/gpu/gpu_device.cc:1637] Created device /job:localhost/replica:0/task:0/device:GPU:0 with 21629 MB memory:  -> device: 0, name: CUDA GPU, pci bus id: 0000:86:00.0, compute capability: 7.5\n",
      "2023-05-09 12:36:06.729803: I tensorflow/core/common_runtime/gpu/gpu_device.cc:1637] Created device /job:localhost/replica:0/task:0/device:GPU:1 with 21629 MB memory:  -> device: 1, name: CUDA GPU, pci bus id: 0000:d8:00.0, compute capability: 7.5\n"
     ]
    }
   ],
   "source": [
    "import numpy as np\n",
    "from tensorflow.python.keras.models import model_from_json\n",
    "import tensorflow as tf\n",
    "\n",
    "np.random.seed(2016)\n",
    "\n",
    "# import\n",
    "import os\n",
    "import cv2\n",
    "import pickle\n",
    "import glob\n",
    "import math\n",
    "import datetime\n",
    "import pandas as pd\n",
    "import tensorflow.keras\n",
    "import matplotlib.pyplot as plt\n",
    "from sklearn.model_selection import train_test_split # cross_validation > model_selection\n",
    "from tensorflow.keras.models import Sequential\n",
    "from tensorflow.python.keras.layers.core import Dense, Dropout, Activation, Flatten\n",
    "from tensorflow.keras.layers import Convolution2D, MaxPooling2D\n",
    "from tensorflow.keras.layers import GlobalAveragePooling2D\n",
    "from tensorflow.python.keras.utils import np_utils\n",
    "from numpy.random import choice\n",
    "from tensorflow.keras.layers import BatchNormalization, Dropout\n",
    "from tensorflow.keras import regularizers\n",
    "from tensorflow.keras.optimizers import Adam\n",
    "import h5py\n",
    "\n",
    "# 수정 코드\n",
    "from tensorflow.compat.v1 import ConfigProto\n",
    "from tensorflow.compat.v1 import InteractiveSession\n",
    "\n",
    "config = ConfigProto()\n",
    "config.gpu_options.allow_growth = True\n",
    "session = InteractiveSession(config=config)"
   ]
  },
  {
   "cell_type": "code",
   "execution_count": 2,
   "metadata": {
    "scrolled": false
   },
   "outputs": [
    {
     "data": {
      "text/plain": [
       "[PhysicalDevice(name='/physical_device:GPU:0', device_type='GPU'),\n",
       " PhysicalDevice(name='/physical_device:GPU:1', device_type='GPU')]"
      ]
     },
     "execution_count": 2,
     "metadata": {},
     "output_type": "execute_result"
    }
   ],
   "source": [
    "tf.config.list_physical_devices('GPU')"
   ]
  },
  {
   "cell_type": "code",
   "execution_count": 3,
   "metadata": {},
   "outputs": [
    {
     "name": "stdout",
     "output_type": "stream",
     "text": [
      "Tue May  9 12:36:07 2023       \n",
      "+-----------------------------------------------------------------------------+\n",
      "| NVIDIA-SMI 510.39.01    Driver Version: 510.39.01    CUDA Version: 11.6     |\n",
      "|-------------------------------+----------------------+----------------------+\n",
      "| GPU  Name        Persistence-M| Bus-Id        Disp.A | Volatile Uncorr. ECC |\n",
      "| Fan  Temp  Perf  Pwr:Usage/Cap|         Memory-Usage | GPU-Util  Compute M. |\n",
      "|                               |                      |               MIG M. |\n",
      "|===============================+======================+======================|\n",
      "|   0  CUDA GPU            On   | 00000000:86:00.0 Off |                  Off |\n",
      "| N/A   32C    P0    54W / 250W |    347MiB / 23040MiB |      1%      Default |\n",
      "|                               |                      |                  N/A |\n",
      "+-------------------------------+----------------------+----------------------+\n",
      "|   1  CUDA GPU            On   | 00000000:D8:00.0 Off |                  Off |\n",
      "| N/A   27C    P0    54W / 250W |    347MiB / 23040MiB |      1%      Default |\n",
      "|                               |                      |                  N/A |\n",
      "+-------------------------------+----------------------+----------------------+\n",
      "                                                                               \n",
      "+-----------------------------------------------------------------------------+\n",
      "| Processes:                                                                  |\n",
      "|  GPU   GI   CI        PID   Type   Process name                  GPU Memory |\n",
      "|        ID   ID                                                   Usage      |\n",
      "|=============================================================================|\n",
      "|    0   N/A  N/A   3602225      C                                     299MiB |\n",
      "|    1   N/A  N/A   3602225      C                                     299MiB |\n",
      "+-----------------------------------------------------------------------------+\n"
     ]
    }
   ],
   "source": [
    "!nvidia-smi"
   ]
  },
  {
   "cell_type": "code",
   "execution_count": 4,
   "metadata": {
    "executionInfo": {
     "elapsed": 319,
     "status": "ok",
     "timestamp": 1668323922319,
     "user": {
      "displayName": "SWU AI Class",
      "userId": "05525670031872515833"
     },
     "user_tz": -540
    },
    "id": "Gn5ahuSTe04j"
   },
   "outputs": [],
   "source": [
    "def get_im(path): # * 이미지 처리\n",
    "  # Load as grayscale\n",
    "  try:\n",
    "    img=cv2.imread(path,0) # 0 : grayscale\n",
    "    #resized=cv2.resize(img, imsize,0,0)\n",
    "    return img\n",
    "  except:\n",
    "    print(path)\n",
    "    return \"X\"\n",
    "\n",
    "\n",
    "def load_fromfile(input_filename1): #, input_filename2): # * 경로로부터 이미지 load\n",
    "  X_train=[]\n",
    "  y_train=[]\n",
    "  count=0\n",
    "  f=open(input_filename1,'r')\n",
    "  filenames=[]\n",
    "  labels=[]\n",
    "  for line in f:\n",
    "    filename, label=line[:-1].split('\\t') # alive : 0, fake : 1\n",
    "    # filename='/home/younkyul/project/Data/...'+filename\n",
    "    # print(filename)\n",
    "    filenames.append(filename)\n",
    "    cropped=get_im(filename)\n",
    "    #for l in cropped:\n",
    "      # X_train.append(l)\n",
    "      # y_train.append(label)\n",
    "    if type(cropped)==str: continue\n",
    "    X_train.append(cropped)\n",
    "    y_train.append(label)\n",
    "    count+=1\n",
    "    print(count)\n",
    "  return X_train, y_train\n",
    "\n",
    "def cache_data(data,path):\n",
    "  if os.path.isdir(os.path.dirname(path)):\n",
    "    file=open(path,'wb')\n",
    "    pickle.dump(data,file)\n",
    "    file.close()\n",
    "  else:\n",
    "    print('Directory doesn\\'t exist')\n",
    "\n",
    "def restore_data(path):\n",
    "  data=dict()\n",
    "  if os.path.isfile(path):\n",
    "    file=open(path,'rb')\n",
    "    data=pickle.load(file)\n",
    "  return data\n",
    "\n",
    "def save_model(model,output_dir,sensor): # * 모델 가중치 저장하기\n",
    "  try: \n",
    "    if not os.path.exists(output_dir): \n",
    "      os.makedirs(output_dir) \n",
    "  except OSError: \n",
    "    print(\"Error: Failed to create the directory.\")\n",
    "\n",
    "  with open(os.path.join(output_dir,sensor + '_architecture.json'),'w') as fout:\n",
    "    fout.write(model.to_json())\n",
    "  model.save_weights(os.path.join(output_dir,sensor + '_model_weights.h5'),overwrite=True)\n",
    "\n",
    "def read_model(input_model_dir, sensor): # * 모델 가중치 불러오기\n",
    "  model=model_from_json(open(os.path.join(input_model_dir,model_sub_dir,sensor + '_architecture.json')).read())\n",
    "  model.load_weights(os.path.join(input_model_dir,model_sub_dir,sensor + '_model_weights.h5'))\n",
    "  return model"
   ]
  },
  {
   "cell_type": "code",
   "execution_count": 5,
   "metadata": {
    "colab": {
     "base_uri": "https://localhost:8080/"
    },
    "id": "d7JKV1xfe04l",
    "outputId": "63ff440d-3de7-49e4-9f1f-d7a5ed8678e2",
    "scrolled": true
   },
   "outputs": [
    {
     "name": "stderr",
     "output_type": "stream",
     "text": [
      "2023-05-09 12:36:25.160806: I tensorflow/core/common_runtime/gpu/gpu_device.cc:1637] Created device /job:localhost/replica:0/task:0/device:GPU:0 with 21629 MB memory:  -> device: 0, name: CUDA GPU, pci bus id: 0000:86:00.0, compute capability: 7.5\n",
      "2023-05-09 12:36:25.161189: I tensorflow/core/common_runtime/gpu/gpu_device.cc:1637] Created device /job:localhost/replica:0/task:0/device:GPU:1 with 21629 MB memory:  -> device: 1, name: CUDA GPU, pci bus id: 0000:d8:00.0, compute capability: 7.5\n"
     ]
    },
    {
     "name": "stdout",
     "output_type": "stream",
     "text": [
      "Model: \"sequential\"\n",
      "_________________________________________________________________\n",
      " Layer (type)                Output Shape              Param #   \n",
      "=================================================================\n",
      " conv2d (Conv2D)             (None, 192, 192, 32)      320       \n",
      "                                                                 \n",
      " module_wrapper (ModuleWrapp  (None, 192, 192, 32)     0         \n",
      " er)                                                             \n",
      "                                                                 \n",
      " max_pooling2d (MaxPooling2D  (None, 96, 96, 32)       0         \n",
      " )                                                               \n",
      "                                                                 \n",
      " conv2d_1 (Conv2D)           (None, 96, 96, 32)        9248      \n",
      "                                                                 \n",
      " module_wrapper_1 (ModuleWra  (None, 96, 96, 32)       0         \n",
      " pper)                                                           \n",
      "                                                                 \n",
      " max_pooling2d_1 (MaxPooling  (None, 48, 48, 32)       0         \n",
      " 2D)                                                             \n",
      "                                                                 \n",
      " conv2d_2 (Conv2D)           (None, 48, 48, 64)        18496     \n",
      "                                                                 \n",
      " module_wrapper_2 (ModuleWra  (None, 48, 48, 64)       0         \n",
      " pper)                                                           \n",
      "                                                                 \n",
      " max_pooling2d_2 (MaxPooling  (None, 24, 24, 64)       0         \n",
      " 2D)                                                             \n",
      "                                                                 \n",
      " conv2d_3 (Conv2D)           (None, 24, 24, 64)        36928     \n",
      "                                                                 \n",
      " module_wrapper_3 (ModuleWra  (None, 24, 24, 64)       0         \n",
      " pper)                                                           \n",
      "                                                                 \n",
      " max_pooling2d_3 (MaxPooling  (None, 12, 12, 64)       0         \n",
      " 2D)                                                             \n",
      "                                                                 \n",
      " dropout (Dropout)           (None, 12, 12, 64)        0         \n",
      "                                                                 \n",
      " module_wrapper_4 (ModuleWra  (None, 9216)             0         \n",
      " pper)                                                           \n",
      "                                                                 \n",
      " module_wrapper_5 (ModuleWra  (None, 128)              1179776   \n",
      " pper)                                                           \n",
      "                                                                 \n",
      " module_wrapper_6 (ModuleWra  (None, 128)              0         \n",
      " pper)                                                           \n",
      "                                                                 \n",
      " module_wrapper_7 (ModuleWra  (None, 2)                258       \n",
      " pper)                                                           \n",
      "                                                                 \n",
      " module_wrapper_8 (ModuleWra  (None, 2)                0         \n",
      " pper)                                                           \n",
      "                                                                 \n",
      "=================================================================\n",
      "Total params: 1,245,026\n",
      "Trainable params: 1,245,026\n",
      "Non-trainable params: 0\n",
      "_________________________________________________________________\n",
      "Epoch 1/10\n"
     ]
    },
    {
     "name": "stderr",
     "output_type": "stream",
     "text": [
      "2023-05-09 12:36:31.462023: I tensorflow/stream_executor/cuda/cuda_dnn.cc:424] Loaded cuDNN version 8700\n"
     ]
    },
    {
     "name": "stdout",
     "output_type": "stream",
     "text": [
      "499/499 [==============================] - 13s 21ms/step - loss: 0.6233 - accuracy: 0.6057\n",
      "Epoch 2/10\n",
      "499/499 [==============================] - 10s 21ms/step - loss: 0.3836 - accuracy: 0.8110\n",
      "Epoch 3/10\n",
      "499/499 [==============================] - 10s 21ms/step - loss: 0.2402 - accuracy: 0.8935\n",
      "Epoch 4/10\n",
      "499/499 [==============================] - 10s 21ms/step - loss: 0.1714 - accuracy: 0.9296\n",
      "Epoch 5/10\n",
      "499/499 [==============================] - 10s 21ms/step - loss: 0.1289 - accuracy: 0.9483\n",
      "Epoch 6/10\n",
      "499/499 [==============================] - 10s 21ms/step - loss: 0.1200 - accuracy: 0.9527\n",
      "Epoch 7/10\n",
      "499/499 [==============================] - 10s 21ms/step - loss: 0.1077 - accuracy: 0.9576\n",
      "Epoch 8/10\n",
      "499/499 [==============================] - 10s 21ms/step - loss: 0.0747 - accuracy: 0.9709\n",
      "Epoch 9/10\n",
      "499/499 [==============================] - 10s 21ms/step - loss: 0.0676 - accuracy: 0.9745\n",
      "Epoch 10/10\n",
      "499/499 [==============================] - 10s 21ms/step - loss: 0.0646 - accuracy: 0.9751\n",
      "Score:  [0.03656941279768944, 0.9866921305656433]\n"
     ]
    }
   ],
   "source": [
    "# 학습할 센서 설정\n",
    "#sensor = \"CrossMatch\"                \n",
    "#sensor = \"Digital_Persona\"\n",
    "sensor = \"GreenBit\"\n",
    "#sensor = \"Hi_Scan\"\n",
    "\n",
    "# 경로 설정\n",
    "#model_dir = '/content/Models/' + sensor  # 모델 정보 저장할 디렉토리\n",
    "\n",
    "batch_size = 64 #128\n",
    "nb_classes = 2\n",
    "nb_epoch = 10 #20\n",
    "\n",
    "nb_filters = 16 #32\n",
    "nb_pool = 2\n",
    "nb_conv = 3\n",
    "\n",
    "_optimizer = Adam(learning_rate=0.001)\n",
    "\n",
    "\n",
    "########################################################################################################################\n",
    "    \n",
    "# Train 이미지 크기 설정\n",
    "if(sensor=='CrossMatch'):\n",
    "  image_size1=384\n",
    "  image_size2=384\n",
    "elif(sensor=='Digital_Persona'):\n",
    "  image_size1=192\n",
    "  image_size2=192\n",
    "elif(sensor=='GreenBit'):\n",
    "  image_size1=192\n",
    "  image_size2=192\n",
    "elif(sensor=='Hi_Scan'):\n",
    "  image_size1=384\n",
    "  image_size2=384\n",
    "imsize=(image_size1, image_size2)    \n",
    "\n",
    "# HDF5 파일 읽기\n",
    "with h5py.File('/home/work/FingerPrint/Data/HDF5/GreenBit_Train.hdf5', 'r') as hf:\n",
    "    X_train = hf.get('x_train')[:]\n",
    "    X_target = hf.get('x_target')[:]\n",
    "    #print(X_train)\n",
    "    #print(\"target---\\n\",X_target)\n",
    "    #print(X_target.shape)\n",
    "    \n",
    "    #X_train = hf['x_train'].value\n",
    "    #X_target = hf['x_target'].value\n",
    "\n",
    "# * 모델 쌓기\n",
    "model = Sequential()\n",
    "model.add(Convolution2D(32, (nb_conv, nb_conv), padding='same',input_shape=(image_size1, image_size2, 1)))\n",
    "model.add(Activation('relu'))\n",
    "model.add(MaxPooling2D(pool_size=(nb_pool, nb_pool), padding='same'))\n",
    "\n",
    "model.add(Convolution2D(32, (nb_conv, nb_conv), padding='same',input_shape=(image_size1, image_size2, 1)))\n",
    "model.add(Activation('relu'))\n",
    "model.add(MaxPooling2D(pool_size=(nb_pool, nb_pool), padding='same'))\n",
    "\n",
    "model.add(Convolution2D(64, (nb_conv, nb_conv), padding='same',input_shape=(image_size1, image_size2, 1)))\n",
    "model.add(Activation('relu'))\n",
    "model.add(MaxPooling2D(pool_size=(nb_pool, nb_pool), padding='same'))\n",
    "\n",
    "model.add(Convolution2D(64, (nb_conv, nb_conv), padding='same',input_shape=(image_size1, image_size2, 1)))\n",
    "model.add(Activation('relu'))\n",
    "model.add(MaxPooling2D(pool_size=(nb_pool, nb_pool), padding='same'))\n",
    "\n",
    "#model.add(Convolution2D(128, (nb_conv, nb_conv), padding='same'))\n",
    "#model.add(Activation('relu'))\n",
    "#model.add(MaxPooling2D(pool_size=(nb_pool, nb_pool), padding='same'))\n",
    "model.add(Dropout(0.3))\n",
    "\n",
    "model.add(Flatten())\n",
    "model.add(Dense(128, kernel_regularizer=regularizers.l2(0.001)))\n",
    "model.add(Activation('relu'))\n",
    "          \n",
    "model.add(Dense(nb_classes))\n",
    "model.add(Activation('sigmoid'))\n",
    "\n",
    "model.compile(loss='binary_crossentropy', optimizer=_optimizer, metrics=['accuracy'])\n",
    "model.summary()\n",
    "\n",
    "# * 모델 학습\n",
    "hist = model.fit(X_train, X_target, batch_size=batch_size, epochs=nb_epoch, verbose=1)\n",
    "model.compile(loss='binary_crossentropy', optimizer=_optimizer, metrics=['accuracy'])\n",
    "\n",
    "# * 모델 평가 및 저장\n",
    "score = model.evaluate(X_train, X_target, verbose=0)\n",
    "print('Score: ', score)\n",
    "#save_model(model, model_dir, sensor)"
   ]
  },
  {
   "cell_type": "code",
   "execution_count": 6,
   "metadata": {
    "scrolled": false
   },
   "outputs": [
    {
     "name": "stdout",
     "output_type": "stream",
     "text": [
      "Score:  [0.03656941279768944, 0.9866921305656433]\n"
     ]
    }
   ],
   "source": [
    "score = model.evaluate(X_train, X_target, verbose=0)\n",
    "print('Score: ', score)"
   ]
  },
  {
   "cell_type": "code",
   "execution_count": 7,
   "metadata": {
    "id": "qVOTFsAhntFO",
    "scrolled": true
   },
   "outputs": [
    {
     "data": {
      "image/png": "[encoded data removed]",
      "text/plain": [
       "<Figure size 640x480 with 1 Axes>"
      ]
     },
     "metadata": {},
     "output_type": "display_data"
    }
   ],
   "source": [
    "plt.plot(hist.history['loss'])\n",
    "plt.xlabel('epoch')\n",
    "plt.ylabel('loss')\n",
    "plt.show()"
   ]
  },
  {
   "cell_type": "code",
   "execution_count": 8,
   "metadata": {
    "scrolled": false
   },
   "outputs": [
    {
     "name": "stdout",
     "output_type": "stream",
     "text": [
      "(2495, 192, 192, 1)\n",
      "(2495, 1)\n",
      "Score:  [10.44753646850586, 0.36913827061653137]\n"
     ]
    }
   ],
   "source": [
    "#test data - jaeeun\n",
    "\n",
    "\n",
    "#########################################################################################\n",
    "\n",
    "# HDF5 파일 읽기\n",
    "import h5py\n",
    "import numpy as np\n",
    "from tensorflow.keras.models import Sequential\n",
    "\n",
    "with h5py.File('/home/work/FingerPrint/Data/HDF5/GreenBit_Test.hdf5', 'r') as hf:\n",
    "    X_test = hf.get('x_test')[:]\n",
    "    X_label = hf.get('x_label')[:]\n",
    "    \n",
    "    X_test = tf.image.resize(X_test, [192,192])\n",
    "    \n",
    "    #print(X_test.shape)\n",
    "    X_test = X_test / 255\n",
    "    \n",
    "    tmp = X_label\n",
    "    X_test\n",
    "    X_label = []\n",
    "    \n",
    "#tmp에 append한 list를 저장하고, 그 list를 새로운 배열에 하나하나 저장하는 방식?\n",
    "    \n",
    "    trans = np.where(tmp>0,0,1)\n",
    "    tmp = tmp.reshape(-1, 1)\n",
    "    #print(tmp.shape)\n",
    "    \n",
    "    X_label = np.array(X_label)\n",
    "    \n",
    "    for i in tmp:\n",
    "        if i==[0]:\n",
    "            X_label = np.append(X_label, np.array([0., 1.]))\n",
    "        else:\n",
    "            X_label = np.append(X_label, np.array([1., 0.]))\n",
    "            \n",
    "    X_label = np.reshape(X_label, (-1, 2))\n",
    "    X_label = tf.convert_to_tensor(X_label)\n",
    "    \n",
    "#데이터 shape 확인용    \n",
    "#print(X_test)\n",
    "#print(X_label.shape)\n",
    "#print(\"-----label-----\\n\",X_label) \n",
    "    #어떻게 생겨머겄니?\n",
    "    \n",
    "\n",
    "#결과 도출\n",
    "score = model.evaluate(X_test, X_label, verbose=0)\n",
    "print('Score: ', score)\n",
    "\n",
    "#hist = model.fit(X_test, X_label, batch_size=batch_size, epochs=nb_epoch, verbose=1)\n",
    "#model.compile(loss='binary_crossentropy', optimizer=_optimizer, metrics=['accuracy'])\n",
    "\n",
    "\n",
    "# * 모델 평가 및 저장\n",
    "\n",
    "#save_model(model, model_dir, sensor)"
   ]
  },
  {
   "cell_type": "code",
   "execution_count": null,
   "metadata": {},
   "outputs": [],
   "source": []
  },
  {
   "cell_type": "code",
   "execution_count": null,
   "metadata": {},
   "outputs": [],
   "source": []
  },
  {
   "cell_type": "code",
   "execution_count": null,
   "metadata": {},
   "outputs": [],
   "source": []
  }
 ],
 "metadata": {
  "accelerator": "GPU",
  "colab": {
   "collapsed_sections": [],
   "provenance": []
  },
  "kernelspec": {
   "display_name": "Python 3.8 (NGC 22.12 / TensorFlow 2.10.1) on Backend.AI",
   "language": "python",
   "name": "python3"
  },
  "language_info": {
   "codemirror_mode": {
    "name": "ipython",
    "version": 3
   },
   "file_extension": ".py",
   "mimetype": "text/x-python",
   "name": "python",
   "nbconvert_exporter": "python",
   "pygments_lexer": "ipython3",
   "version": "3.8.10"
  },
  "vscode": {
   "interpreter": {
    "hash": "767d51c1340bd893661ea55ea3124f6de3c7a262a8b4abca0554b478b1e2ff90"
   }
  }
 },
 "nbformat": 4,
 "nbformat_minor": 1
}
